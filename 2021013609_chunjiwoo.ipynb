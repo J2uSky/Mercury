{
 "cells": [
  {
   "cell_type": "code",
   "execution_count": 1,
   "id": "6efda4fb",
   "metadata": {},
   "outputs": [
    {
     "name": "stdout",
     "output_type": "stream",
     "text": [
      "3.9.12 (main, Apr  5 2022, 01:53:17) \n",
      "[Clang 12.0.0 ]\n"
     ]
    }
   ],
   "source": [
    "import sys\n",
    "print(sys.version)"
   ]
  },
  {
   "cell_type": "code",
   "execution_count": 2,
   "id": "936408d8",
   "metadata": {},
   "outputs": [
    {
     "name": "stdout",
     "output_type": "stream",
     "text": [
      "\u001b[33mWARNING: Package(s) not found: pygame\u001b[0m\n",
      "Note: you may need to restart the kernel to use updated packages.\n"
     ]
    }
   ],
   "source": [
    "pip show pygame"
   ]
  },
  {
   "cell_type": "code",
   "execution_count": 3,
   "id": "0f1dfc70",
   "metadata": {},
   "outputs": [
    {
     "name": "stdout",
     "output_type": "stream",
     "text": [
      "zsh:1: parse error near `-m'\r\n"
     ]
    }
   ],
   "source": [
    "import sys\n",
    "!{sys.executalbe} -m pip install pygame"
   ]
  },
  {
   "cell_type": "code",
   "execution_count": 4,
   "id": "00f4bfcd",
   "metadata": {},
   "outputs": [
    {
     "name": "stdout",
     "output_type": "stream",
     "text": [
      "zsh:1: parse error near `-m'\r\n"
     ]
    }
   ],
   "source": [
    "import sys\n",
    "!{sys.executalbe} -m pip install pygame"
   ]
  },
  {
   "cell_type": "code",
   "execution_count": 5,
   "id": "0cac25cf",
   "metadata": {},
   "outputs": [
    {
     "name": "stdout",
     "output_type": "stream",
     "text": [
      "zsh:1: parse error near `pygame'\r\n"
     ]
    }
   ],
   "source": [
    "import sys\n",
    "!{sys.executalbe}-m pip install pygame"
   ]
  },
  {
   "cell_type": "code",
   "execution_count": 6,
   "id": "c26f99ae",
   "metadata": {},
   "outputs": [
    {
     "name": "stdout",
     "output_type": "stream",
     "text": [
      "zsh:1: parse error near `-m'\r\n"
     ]
    }
   ],
   "source": [
    "import sys\n",
    "!{sys.executabe} -m pip install pygame"
   ]
  },
  {
   "cell_type": "code",
   "execution_count": 7,
   "id": "a9cbfffa",
   "metadata": {},
   "outputs": [
    {
     "name": "stdout",
     "output_type": "stream",
     "text": [
      "Collecting pygame\n",
      "  Downloading pygame-2.1.2-cp39-cp39-macosx_10_9_x86_64.whl (8.9 MB)\n",
      "\u001b[K     |████████████████████████████████| 8.9 MB 7.6 MB/s eta 0:00:01\n",
      "\u001b[?25hInstalling collected packages: pygame\n",
      "Successfully installed pygame-2.1.2\n"
     ]
    }
   ],
   "source": [
    "import sys\n",
    "!{sys.executable} -m pip install pygame"
   ]
  },
  {
   "cell_type": "code",
   "execution_count": 8,
   "id": "02cc17f5",
   "metadata": {},
   "outputs": [
    {
     "name": "stdout",
     "output_type": "stream",
     "text": [
      "Name: pygame\n",
      "Version: 2.1.2\n",
      "Summary: Python Game Development\n",
      "Home-page: https://www.pygame.org\n",
      "Author: A community project.\n",
      "Author-email: pygame@pygame.org\n",
      "License: LGPL\n",
      "Location: /Users/cheonjiu/opt/anaconda3/lib/python3.9/site-packages\n",
      "Requires: \n",
      "Required-by: \n",
      "Note: you may need to restart the kernel to use updated packages.\n"
     ]
    }
   ],
   "source": [
    "pip show pygame"
   ]
  },
  {
   "cell_type": "code",
   "execution_count": 9,
   "id": "94ff4dc1",
   "metadata": {},
   "outputs": [
    {
     "name": "stdout",
     "output_type": "stream",
     "text": [
      "pygame 2.1.2 (SDL 2.0.18, Python 3.9.12)\n",
      "Hello from the pygame community. https://www.pygame.org/contribute.html\n"
     ]
    },
    {
     "name": "stderr",
     "output_type": "stream",
     "text": [
      "2022-06-14 22:23:00.719 python[70247:5548823] TSM AdjustCapsLockLEDForKeyTransitionHandling - _ISSetPhysicalKeyboardCapsLockLED Inhibit\n"
     ]
    },
    {
     "ename": "error",
     "evalue": "No file 'tetrisc.mid' found in working directory '/Users/cheonjiu'.",
     "output_type": "error",
     "traceback": [
      "\u001b[0;31m---------------------------------------------------------------------------\u001b[0m",
      "\u001b[0;31merror\u001b[0m                                     Traceback (most recent call last)",
      "Input \u001b[0;32mIn [9]\u001b[0m, in \u001b[0;36m<cell line: 505>\u001b[0;34m()\u001b[0m\n\u001b[1;32m    502\u001b[0m     drawPiece(piece, pixelx\u001b[38;5;241m=\u001b[39mWINDOWWIDTH\u001b[38;5;241m-\u001b[39m\u001b[38;5;241m120\u001b[39m, pixely\u001b[38;5;241m=\u001b[39m\u001b[38;5;241m100\u001b[39m)\n\u001b[1;32m    505\u001b[0m \u001b[38;5;28;01mif\u001b[39;00m \u001b[38;5;18m__name__\u001b[39m \u001b[38;5;241m==\u001b[39m \u001b[38;5;124m'\u001b[39m\u001b[38;5;124m__main__\u001b[39m\u001b[38;5;124m'\u001b[39m:\n\u001b[0;32m--> 506\u001b[0m     \u001b[43mmain\u001b[49m\u001b[43m(\u001b[49m\u001b[43m)\u001b[49m\n",
      "Input \u001b[0;32mIn [9]\u001b[0m, in \u001b[0;36mmain\u001b[0;34m()\u001b[0m\n\u001b[1;32m    170\u001b[0m     pygame\u001b[38;5;241m.\u001b[39mmixer\u001b[38;5;241m.\u001b[39mmusic\u001b[38;5;241m.\u001b[39mload(\u001b[38;5;124m'\u001b[39m\u001b[38;5;124mtetrisb.mid\u001b[39m\u001b[38;5;124m'\u001b[39m)\n\u001b[1;32m    171\u001b[0m \u001b[38;5;28;01melse\u001b[39;00m:\n\u001b[0;32m--> 172\u001b[0m     \u001b[43mpygame\u001b[49m\u001b[38;5;241;43m.\u001b[39;49m\u001b[43mmixer\u001b[49m\u001b[38;5;241;43m.\u001b[39;49m\u001b[43mmusic\u001b[49m\u001b[38;5;241;43m.\u001b[39;49m\u001b[43mload\u001b[49m\u001b[43m(\u001b[49m\u001b[38;5;124;43m'\u001b[39;49m\u001b[38;5;124;43mtetrisc.mid\u001b[39;49m\u001b[38;5;124;43m'\u001b[39;49m\u001b[43m)\u001b[49m\n\u001b[1;32m    173\u001b[0m pygame\u001b[38;5;241m.\u001b[39mmixer\u001b[38;5;241m.\u001b[39mmusic\u001b[38;5;241m.\u001b[39mplay(\u001b[38;5;241m-\u001b[39m\u001b[38;5;241m1\u001b[39m, \u001b[38;5;241m0.0\u001b[39m)\n\u001b[1;32m    174\u001b[0m runGame()\n",
      "\u001b[0;31merror\u001b[0m: No file 'tetrisc.mid' found in working directory '/Users/cheonjiu'."
     ]
    }
   ],
   "source": [
    "urf.get_rect()\n",
    "    nextRect.topleft = (WINDOWWIDTH - 120, 80)\n",
    "    DISPLAYSURF.blit(nextSurf, nextRect)\n",
    "    # draw the \"next\" piece\n",
    "    drawPiece(piece, pixelx=WINDOWWIDTH-120, pixely=100)\n",
    "\n",
    "\n",
    "if __name__ == '__main__':\n",
    "    main()"
   ]
  },
  {
   "cell_type": "code",
   "execution_count": null,
   "id": "8520fb65",
   "metadata": {},
   "outputs": [],
   "source": []
  },
  {
   "cell_type": "code",
   "execution_count": 4,
   "id": "311068ce",
   "metadata": {},
   "outputs": [
    {
     "ename": "FileNotFoundError",
     "evalue": "[Errno 2] No such file or directory: 'D2Coding.ttc'",
     "output_type": "error",
     "traceback": [
      "\u001b[0;31m---------------------------------------------------------------------------\u001b[0m",
      "\u001b[0;31mFileNotFoundError\u001b[0m                         Traceback (most recent call last)",
      "Input \u001b[0;32mIn [4]\u001b[0m, in \u001b[0;36m<cell line: 219>\u001b[0;34m()\u001b[0m\n\u001b[1;32m    216\u001b[0m         pygame\u001b[38;5;241m.\u001b[39mdraw\u001b[38;5;241m.\u001b[39mline(DISPLAYSURF, DARKGRAY, (\u001b[38;5;241m0\u001b[39m, y), (WINDOWWIDTH, y))\n\u001b[1;32m    219\u001b[0m \u001b[38;5;28;01mif\u001b[39;00m \u001b[38;5;18m__name__\u001b[39m \u001b[38;5;241m==\u001b[39m \u001b[38;5;124m'\u001b[39m\u001b[38;5;124m__main__\u001b[39m\u001b[38;5;124m'\u001b[39m:\n\u001b[0;32m--> 220\u001b[0m     \u001b[43mmain\u001b[49m\u001b[43m(\u001b[49m\u001b[43m)\u001b[49m\n",
      "Input \u001b[0;32mIn [4]\u001b[0m, in \u001b[0;36mmain\u001b[0;34m()\u001b[0m\n\u001b[1;32m     40\u001b[0m BASICFONT \u001b[38;5;241m=\u001b[39m pygame\u001b[38;5;241m.\u001b[39mfont\u001b[38;5;241m.\u001b[39mFont(\u001b[38;5;124m'\u001b[39m\u001b[38;5;124mfreesansbold.ttf\u001b[39m\u001b[38;5;124m'\u001b[39m, \u001b[38;5;241m18\u001b[39m)\n\u001b[1;32m     41\u001b[0m pygame\u001b[38;5;241m.\u001b[39mdisplay\u001b[38;5;241m.\u001b[39mset_caption(\u001b[38;5;124m'\u001b[39m\u001b[38;5;124mWormy\u001b[39m\u001b[38;5;124m'\u001b[39m)\n\u001b[0;32m---> 43\u001b[0m \u001b[43mshowStartScreen\u001b[49m\u001b[43m(\u001b[49m\u001b[43m)\u001b[49m\n\u001b[1;32m     44\u001b[0m \u001b[38;5;28;01mwhile\u001b[39;00m \u001b[38;5;28;01mTrue\u001b[39;00m:\n\u001b[1;32m     45\u001b[0m     runGame()\n",
      "Input \u001b[0;32mIn [4]\u001b[0m, in \u001b[0;36mshowStartScreen\u001b[0;34m()\u001b[0m\n\u001b[1;32m    128\u001b[0m \u001b[38;5;28;01mdef\u001b[39;00m \u001b[38;5;21mshowStartScreen\u001b[39m():\n\u001b[0;32m--> 129\u001b[0m     titleFont \u001b[38;5;241m=\u001b[39m \u001b[43mpygame\u001b[49m\u001b[38;5;241;43m.\u001b[39;49m\u001b[43mfont\u001b[49m\u001b[38;5;241;43m.\u001b[39;49m\u001b[43mFont\u001b[49m\u001b[43m(\u001b[49m\u001b[38;5;124;43m'\u001b[39;49m\u001b[38;5;124;43mD2Coding.ttc\u001b[39;49m\u001b[38;5;124;43m'\u001b[39;49m\u001b[43m,\u001b[49m\u001b[43m \u001b[49m\u001b[38;5;241;43m100\u001b[39;49m\u001b[43m)\u001b[49m\n\u001b[1;32m    130\u001b[0m     titleSurf1 \u001b[38;5;241m=\u001b[39m titleFont\u001b[38;5;241m.\u001b[39mrender(\u001b[38;5;124m'\u001b[39m\u001b[38;5;124mOSW Game\u001b[39m\u001b[38;5;124m'\u001b[39m, \u001b[38;5;28;01mTrue\u001b[39;00m, BLACK, DARKGREEN)\n\u001b[1;32m    131\u001b[0m     titleSurf2 \u001b[38;5;241m=\u001b[39m titleFont\u001b[38;5;241m.\u001b[39mrender(\u001b[38;5;124m'\u001b[39m\u001b[38;5;124mOSW Game\u001b[39m\u001b[38;5;124m'\u001b[39m, \u001b[38;5;28;01mTrue\u001b[39;00m, YELLOW)\n",
      "\u001b[0;31mFileNotFoundError\u001b[0m: [Errno 2] No such file or directory: 'D2Coding.ttc'"
     ]
    }
   ],
   "source": [
    "# Wormy (a Nibbles clone)\n",
    "# By Al Sweigart al@inventwithpython.com\n",
    "# http://inventwithpython.com/pygame\n",
    "# Released under a \"Simplified BSD\" license\n",
    "\n",
    "import random, pygame, sys\n",
    "from pygame.locals import *\n",
    "\n",
    "FPS = 15\n",
    "WINDOWWIDTH = 640\n",
    "WINDOWHEIGHT = 480\n",
    "CELLSIZE = 20\n",
    "assert WINDOWWIDTH % CELLSIZE == 0, \"Window width must be a multiple of cell size.\"\n",
    "assert WINDOWHEIGHT % CELLSIZE == 0, \"Window height must be a multiple of cell size.\"\n",
    "CELLWIDTH = int(WINDOWWIDTH / CELLSIZE)\n",
    "CELLHEIGHT = int(WINDOWHEIGHT / CELLSIZE)\n",
    "\n",
    "#             R    G    B\n",
    "WHITE     = (255, 255, 255)\n",
    "BLACK     = (  0,   0,   0)\n",
    "RED       = (255,   0,   0)\n",
    "GREEN     = (  0, 255,   0)\n",
    "DARKGREEN = (  0, 155,   0)\n",
    "DARKGRAY  = ( 40,  40,  40)\n",
    "BGCOLOR = BLACK\n",
    "\n",
    "UP = 'up'\n",
    "DOWN = 'down'\n",
    "LEFT = 'left'\n",
    "RIGHT = 'right'\n",
    "\n",
    "HEAD = 0 # syntactic sugar: index of the worm's head\n",
    "\n",
    "def main():\n",
    "    global FPSCLOCK, DISPLAYSURF, BASICFONT\n",
    "\n",
    "    pygame.init()\n",
    "    FPSCLOCK = pygame.time.Clock()\n",
    "    DISPLAYSURF = pygame.display.set_mode((WINDOWWIDTH, WINDOWHEIGHT))\n",
    "    BASICFONT = pygame.font.Font('freesansbold.ttf', 18)\n",
    "    pygame.display.set_caption('Wormy')\n",
    "\n",
    "    showStartScreen()\n",
    "    while True:\n",
    "        runGame()\n",
    "        showGameOverScreen()\n",
    "\n",
    "\n",
    "def runGame():\n",
    "    # Set a random start point.\n",
    "    startx = random.randint(5, CELLWIDTH - 6)\n",
    "    starty = random.randint(5, CELLHEIGHT - 6)\n",
    "    wormCoords = [{'x': startx,     'y': starty},\n",
    "                  {'x': startx - 1, 'y': starty},\n",
    "                  {'x': startx - 2, 'y': starty}]\n",
    "    direction = RIGHT\n",
    "\n",
    "    # Start the apple in a random place.\n",
    "    apple = getRandomLocation()\n",
    "\n",
    "    while True: # main game loop\n",
    "        for event in pygame.event.get(): # event handling loop\n",
    "            if event.type == QUIT:\n",
    "                terminate()\n",
    "            elif event.type == KEYDOWN:\n",
    "                if (event.key == K_LEFT or event.key == K_a) and direction != RIGHT:\n",
    "                    direction = LEFT\n",
    "                elif (event.key == K_RIGHT or event.key == K_d) and direction != LEFT:\n",
    "                    direction = RIGHT\n",
    "                elif (event.key == K_UP or event.key == K_w) and direction != DOWN:\n",
    "                    direction = UP\n",
    "                elif (event.key == K_DOWN or event.key == K_s) and direction != UP:\n",
    "                    direction = DOWN\n",
    "                elif event.key == K_ESCAPE:\n",
    "                    terminate()\n",
    "\n",
    "        # check if the worm has hit itself or the edge\n",
    "        if wormCoords[HEAD]['x'] == -1 or wormCoords[HEAD]['x'] == CELLWIDTH or wormCoords[HEAD]['y'] == -1 or wormCoords[HEAD]['y'] == CELLHEIGHT:\n",
    "            return # game over\n",
    "        for wormBody in wormCoords[1:]:\n",
    "            if wormBody['x'] == wormCoords[HEAD]['x'] and wormBody['y'] == wormCoords[HEAD]['y']:\n",
    "                return # game over\n",
    "\n",
    "        # check if worm has eaten an apply\n",
    "        if wormCoords[HEAD]['x'] == apple['x'] and wormCoords[HEAD]['y'] == apple['y']:\n",
    "            # don't remove worm's tail segment\n",
    "            apple = getRandomLocation() # set a new apple somewhere\n",
    "        else:\n",
    "            del wormCoords[-1] # remove worm's tail segment\n",
    "\n",
    "        # move the worm by adding a segment in the direction it is moving\n",
    "        if direction == UP:\n",
    "            newHead = {'x': wormCoords[HEAD]['x'], 'y': wormCoords[HEAD]['y'] - 1}\n",
    "        elif direction == DOWN:\n",
    "            newHead = {'x': wormCoords[HEAD]['x'], 'y': wormCoords[HEAD]['y'] + 1}\n",
    "        elif direction == LEFT:\n",
    "            newHead = {'x': wormCoords[HEAD]['x'] - 1, 'y': wormCoords[HEAD]['y']}\n",
    "        elif direction == RIGHT:\n",
    "            newHead = {'x': wormCoords[HEAD]['x'] + 1, 'y': wormCoords[HEAD]['y']}\n",
    "        wormCoords.insert(0, newHead)\n",
    "        DISPLAYSURF.fill(BGCOLOR)\n",
    "        drawGrid()\n",
    "        drawWorm(wormCoords)\n",
    "        drawApple(apple)\n",
    "        drawScore(len(wormCoords) - 3)\n",
    "        pygame.display.update()\n",
    "        FPSCLOCK.tick(FPS)\n",
    "\n",
    "def drawPressKeyMsg():\n",
    "    pressKeySurf = BASICFONT.render('Press a key to play.', True, DARKGRAY)\n",
    "    pressKeyRect = pressKeySurf.get_rect()\n",
    "    pressKeyRect.topleft = (WINDOWWIDTH - 200, WINDOWHEIGHT - 30)\n",
    "    DISPLAYSURF.blit(pressKeySurf, pressKeyRect)\n",
    "\n",
    "\n",
    "def checkForKeyPress():\n",
    "    if len(pygame.event.get(QUIT)) > 0:\n",
    "        terminate()\n",
    "\n",
    "    keyUpEvents = pygame.event.get(KEYUP)\n",
    "    if len(keyUpEvents) == 0:\n",
    "        return None\n",
    "    if keyUpEvents[0].key == K_ESCAPE:\n",
    "        terminate()\n",
    "    return keyUpEvents[0].key\n",
    "\n",
    "\n",
    "def showStartScreen():\n",
    "    titleFont = pygame.font.Font('D2Coding.ttc', 100)\n",
    "    titleSurf1 = titleFont.render('OSW Game', True, BLACK, DARKGREEN)\n",
    "    titleSurf2 = titleFont.render('OSW Game', True, YELLOW)\n",
    "\n",
    "    degrees1 = 0\n",
    "    degrees2 = 0\n",
    "    while True:\n",
    "        DISPLAYSURF.fill(BGCOLOR)\n",
    "        rotatedSurf1 = pygame.transform.rotate(titleSurf1, degrees1)\n",
    "        rotatedRect1 = rotatedSurf1.get_rect()\n",
    "        rotatedRect1.center = (WINDOWWIDTH / 2, WINDOWHEIGHT / 2)\n",
    "        DISPLAYSURF.blit(rotatedSurf1, rotatedRect1)\n",
    "\n",
    "        rotatedSurf2 = pygame.transform.rotate(titleSurf2, degrees2)\n",
    "        rotatedRect2 = rotatedSurf2.get_rect()\n",
    "        rotatedRect2.center = (WINDOWWIDTH / 2, WINDOWHEIGHT / 2)\n",
    "        DISPLAYSURF.blit(rotatedSurf2, rotatedRect2)\n",
    "\n",
    "        drawPressKeyMsg()\n",
    "\n",
    "        if checkForKeyPress():\n",
    "            pygame.event.get() # clear event queue\n",
    "            return\n",
    "        pygame.display.update()\n",
    "        FPSCLOCK.tick(FPS)\n",
    "        degrees1 += 3 # rotate by 3 degrees each frame\n",
    "        degrees2 += 7 # rotate by 7 degrees each frame\n",
    "\n",
    "\n",
    "def terminate():\n",
    "    pygame.quit()\n",
    "    sys.exit()\n",
    "\n",
    "\n",
    "def getRandomLocation():\n",
    "    return {'x': random.randint(0, CELLWIDTH - 1), 'y': random.randint(0, CELLHEIGHT - 1)}\n",
    "\n",
    "\n",
    "def showGameOverScreen():\n",
    "    gameOverFont = pygame.font.Font('freesansbold.ttf', 150)\n",
    "    gameSurf = gameOverFont.render('Game', True, WHITE)\n",
    "    overSurf = gameOverFont.render('Over', True, WHITE)\n",
    "    gameRect = gameSurf.get_rect()\n",
    "    overRect = overSurf.get_rect()\n",
    "    gameRect.midtop = (WINDOWWIDTH / 2, 10)\n",
    "    overRect.midtop = (WINDOWWIDTH / 2, gameRect.height + 10 + 25)\n",
    "\n",
    "    DISPLAYSURF.blit(gameSurf, gameRect)\n",
    "    DISPLAYSURF.blit(overSurf, overRect)\n",
    "    drawPressKeyMsg()\n",
    "    pygame.display.update()\n",
    "    pygame.time.wait(500)\n",
    "    checkForKeyPress() # clear out any key presses in the event queue\n",
    "\n",
    "    while True:\n",
    "        if checkForKeyPress():\n",
    "            pygame.event.get() # clear event queue\n",
    "            return\n",
    "\n",
    "def drawScore(score):\n",
    "    scoreSurf = BASICFONT.render('Score: %s' % (score), True, WHITE)\n",
    "    scoreRect = scoreSurf.get_rect()\n",
    "    scoreRect.topleft = (WINDOWWIDTH - 120, 10)\n",
    "    DISPLAYSURF.blit(scoreSurf, scoreRect)\n",
    "\n",
    "\n",
    "def drawWorm(wormCoords):\n",
    "    for coord in wormCoords:\n",
    "        x = coord['x'] * CELLSIZE\n",
    "        y = coord['y'] * CELLSIZE\n",
    "        wormSegmentRect = pygame.Rect(x, y, CELLSIZE, CELLSIZE)\n",
    "        pygame.draw.rect(DISPLAYSURF, DARKGREEN, wormSegmentRect)\n",
    "        wormInnerSegmentRect = pygame.Rect(x + 4, y + 4, CELLSIZE - 8, CELLSIZE - 8)\n",
    "        pygame.draw.rect(DISPLAYSURF, GREEN, wormInnerSegmentRect)\n",
    "\n",
    "\n",
    "def drawApple(coord):\n",
    "    x = coord['x'] * CELLSIZE\n",
    "    y = coord['y'] * CELLSIZE\n",
    "    appleRect = pygame.Rect(x, y, CELLSIZE, CELLSIZE)\n",
    "    pygame.draw.rect(DISPLAYSURF, RED, appleRect)\n",
    "\n",
    "\n",
    "def drawGrid():\n",
    "    for x in range(0, WINDOWWIDTH, CELLSIZE): # draw vertical lines\n",
    "        pygame.draw.line(DISPLAYSURF, DARKGRAY, (x, 0), (x, WINDOWHEIGHT))\n",
    "    for y in range(0, WINDOWHEIGHT, CELLSIZE): # draw horizontal lines\n",
    "        pygame.draw.line(DISPLAYSURF, DARKGRAY, (0, y), (WINDOWWIDTH, y))\n",
    "\n",
    "\n",
    "if __name__ == '__main__':\n",
    "    main()"
   ]
  },
  {
   "cell_type": "code",
   "execution_count": null,
   "id": "d736b3e3",
   "metadata": {},
   "outputs": [],
   "source": []
  }
 ],
 "metadata": {
  "kernelspec": {
   "display_name": "Python 3 (ipykernel)",
   "language": "python",
   "name": "python3"
  },
  "language_info": {
   "codemirror_mode": {
    "name": "ipython",
    "version": 3
   },
   "file_extension": ".py",
   "mimetype": "text/x-python",
   "name": "python",
   "nbconvert_exporter": "python",
   "pygments_lexer": "ipython3",
   "version": "3.9.12"
  }
 },
 "nbformat": 4,
 "nbformat_minor": 5
}
